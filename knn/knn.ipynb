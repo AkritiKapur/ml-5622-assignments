{
 "cells": [
  {
   "cell_type": "markdown",
   "metadata": {},
   "source": [
    "# K-Nearest Neighbors Homework Solutions\n",
    "***\n",
    "**Name**: $<$insert name here$>$ \n",
    "***\n",
    "\n",
    "This assignment is due on Moodle by **5pm on Friday January 26th**. Submit only this Jupyter notebook to Moodle.  Do not compress it using tar, rar, zip, etc. Your solutions to analysis questions should be done in Markdown directly below the associated question.  Remember that you are encouraged to discuss the problems with your instructors and classmates, but **you must write all code and solutions on your own**.  For a refresher on the course **Collaboration Policy** click [here](https://github.com/chrisketelsen/CSCI5622-Machine-Learning/blob/master/resources/syllabus.md#collaboration-policy)\n",
    "\n"
   ]
  },
  {
   "cell_type": "markdown",
   "metadata": {},
   "source": [
    "## Overview \n",
    "***\n",
    "\n",
    "\n",
    "In this homework you'll implement a K-Nearest Neighbor framework to take an image of a handwritten digit and predict which digit it corresponds to.  \n",
    "\n",
    "<br>\n",
    "\n",
    "![Samples of Handwritten Digits](wide_mnist.png \"MNIST Digits\")\n",
    "\n",
    "\n",
    "<br>\n",
    "\n",
    "This homework is designed to be pretty easy. If you're spending a ton of time on this assignment, then you are either:\n",
    "\n",
    "- not prepared to take this course (i.e., if you're struggling with Python)\n",
    "- seriously over-thinking the assignment\n",
    "- trying to implement too much of KNN from scratch\n",
    "\n",
    "\n",
    "Most of this assignment will be done by calling libraries that are already implemented for you. If you are implementing $n$-dimensional search or your own distance metrics, you are generating extra work for yourself and making yourself vulnerable to errors. \n",
    "\n",
    "Here are the rules: \n",
    "\n",
    "- Do **NOT** load or use any Python packages that are not available in Anaconda 3.6. \n",
    "- Some problems with code may be autograded.  If we provide a function or class API **do not** change it.\n",
    "- Do not change the location of the data or data directory.  Use only relative paths to access the data. "
   ]
  },
  {
   "cell_type": "code",
   "execution_count": 3,
   "metadata": {
    "collapsed": true
   },
   "outputs": [],
   "source": [
    "import numpy as np\n",
    "import matplotlib.pylab as plt\n",
    "%matplotlib inline "
   ]
  },
  {
   "cell_type": "markdown",
   "metadata": {},
   "source": [
    "### [5 points] Problem 1\n",
    "***\n",
    "\n",
    "The class below will load and store the MNIST data.  Load the data and then report: \n",
    "- The number of examples in the training set \n",
    "- The number of examples in the test set \n",
    "- The number of pixels in each image. "
   ]
  },
  {
   "cell_type": "code",
   "execution_count": 4,
   "metadata": {
    "collapsed": true
   },
   "outputs": [],
   "source": [
    "class Numbers:\n",
    "    \"\"\"\n",
    "    Class to store MNIST data\n",
    "    \"\"\"\n",
    "    def __init__(self, location):\n",
    "\n",
    "        import pickle, gzip\n",
    "\n",
    "        # load data from file \n",
    "        f = gzip.open(location, 'rb')\n",
    "        train_set, valid_set, test_set = pickle.load(f)\n",
    "        f.close()\n",
    "        print(len(train_set[0]), len(train_set[1]), len(test_set[0]), train_set[0].shape, train_set[1].shape)\n",
    "\n",
    "        # store for use later  \n",
    "        self.train_x, self.train_y = train_set\n",
    "        self.test_x, self.test_y = valid_set"
   ]
  },
  {
   "cell_type": "code",
   "execution_count": 5,
   "metadata": {},
   "outputs": [
    {
     "name": "stdout",
     "output_type": "stream",
     "text": [
      "50000 50000 10000 (50000, 784) (50000,)\n",
      "number of examples in the training set:  50000\n",
      "number of examples in the test set:  10000\n",
      "number of pixels in each image:  784\n"
     ]
    }
   ],
   "source": [
    "data = Numbers(\"../data/mnist.pklz\")\n",
    "print('number of examples in the training set: ', data.train_x.shape[0])\n",
    "print('number of examples in the test set: ', data.test_x.shape[0])\n",
    "print('number of pixels in each image: ', data.train_x.shape[1])"
   ]
  },
  {
   "cell_type": "markdown",
   "metadata": {},
   "source": [
    "### [30 points] Problem 2\n",
    "***\n",
    "\n",
    "The class below will perform K-Nearest Neighbor classification on our handwritten digit data. Your tasks are as follows:   \n",
    "\n",
    "1. Modify the `label_counts` function to return a dictionary of frequencies corresponding to each label in the training set. \n",
    "1. Modify the `majority` function so that it returns the _label_ that appears most frequently in the $K$-nearest neighbors of the query point.  In the case that the maximum frequency occurs for two or more labels, return the one that appears most frequently in the entire training set. In the case that there is still a tie, break the tie in any way that you choose. \n",
    "1. Modify the `classify` function so that it finds the _indices_ of the $K$ closest training examples to the query point and then calls the `majority` function to return the predicted label. Almost all of the heavy lifting here will be done by the BallTree object from `sklearn.neighbors`, so you'll want to start out by reading the [documentation](http://scikit-learn.org/stable/modules/generated/sklearn.neighbors.BallTree.html).  \n",
    "1. Modify the `confusion_matrix` function to classify examples and record the results in a confusion matrix. You should construct the confusion matrix on your own.  Don't call any additional functions from sklearn to do it for you.\n",
    "\n",
    "The class Knearest also implements an `accuracy` function which you will use in **Problem 3**.  You should not have to modify this function. \n",
    "\n",
    "We've given you unit tests down below based on the simple example worked out in lecture.  At first your code will fail all of them.  Do not move on to **Problem 3** until your code passes all of the unit tests. In addition, passing the unit tests does not guarantee that your implementation is robust and that you'll earn full points on this problem.  You should be designing your own additional tests as well. "
   ]
  },
  {
   "cell_type": "code",
   "execution_count": 34,
   "metadata": {
    "collapsed": true
   },
   "outputs": [],
   "source": [
    "from collections import Counter\n",
    "class Knearest:\n",
    "    \"\"\"\n",
    "    kNN classifier\n",
    "    \"\"\"\n",
    "\n",
    "    def __init__(self, X, y, k=5):\n",
    "        \"\"\"\n",
    "        Creates a kNN instance\n",
    "\n",
    "        :param x: Training data input\n",
    "        :param y: Training data output\n",
    "        :param k: The number of nearest points to consider in classification\n",
    "        \"\"\"\n",
    "        \n",
    "        from sklearn.neighbors import BallTree\n",
    "\n",
    "        self._kdtree = BallTree(X)\n",
    "        self._y = y\n",
    "        self._k = k\n",
    "        self._counts = self.label_counts()\n",
    "        \n",
    "    def label_counts(self):\n",
    "        \"\"\"\n",
    "        Given the training labels, return a dictionary d where d[y] is  \n",
    "        the number of times that label y appears in the training set. \n",
    "        \"\"\"\n",
    "    \n",
    "        return Counter(self._y)\n",
    "\n",
    "    def majority(self, neighbor_indices):\n",
    "        \"\"\"\n",
    "        Given the indices of training examples, return the majority label. Break ties \n",
    "        by choosing the tied label that appears most often in the training data. \n",
    "\n",
    "        :param neighbor_indices: The indices of the k nearest neighbors\n",
    "        \"\"\"\n",
    "        neighbor_indices =neighbor_indices.flatten()\n",
    "        assert len(neighbor_indices) == self._k, \"Did not get k neighbor indices\"\n",
    "\n",
    "        # Creates dictionary with count for each uinque label in neighbor indices\n",
    "        counter = Counter([self._y[n] for n in neighbor_indices])\n",
    "\n",
    "        max_count = max(counter.values())\n",
    "        max_count_indices = []\n",
    "        \n",
    "        # Stores all keys (lables) which have the max frequency in max_count_indices list.\n",
    "        for index in counter:\n",
    "            if counter[index] == max_count:\n",
    "                max_count_indices.append(index)\n",
    "        \n",
    "        # If there is only one label which has the max frequency (with majority vote) returns it. \n",
    "        if len(max_count_indices) == 1:\n",
    "            return max_count_indices[0]\n",
    "    \n",
    "        max_overall_count = 0\n",
    "        max_index = None\n",
    "        \n",
    "        # If there are multiple labels which have max frequency or majority vote it chooses the one,\n",
    "        # with the maximum overall frequency in the training data.\n",
    "        # If there are multiple labels which have the same overall frequency, it just goes with the\n",
    "        # first occuring label (out of those) in neighbor_indices. \n",
    "        for index in max_count_indices:\n",
    "            if self._counts[index] > max_overall_count:\n",
    "                max_index = index\n",
    "                max_overall_count = self._counts[index]\n",
    "        \n",
    "        return max_index\n",
    "\n",
    "    def classify(self, example):\n",
    "        \"\"\"\n",
    "        Given an example, return the predicted label. \n",
    "\n",
    "        :param example: A representation of an example in the same\n",
    "        format as a row of the training data\n",
    "        \"\"\"\n",
    "        _, ind = self._kdtree.query([example], k=self._k)\n",
    "    \n",
    "        return self.majority(ind)\n",
    "\n",
    "\n",
    "    def confusion_matrix(self, test_x, test_y):\n",
    "        \"\"\"\n",
    "        Given a matrix of test examples and labels, compute the confusion\n",
    "        matrix for the current classifier.  Should return a 2-dimensional\n",
    "        numpy array of ints, C, where C[ii,jj] is the number of times an \n",
    "        example with true label ii was labeled as jj.\n",
    "\n",
    "        :param test_x: test data \n",
    "        :param test_y: true test labels \n",
    "        \"\"\"\n",
    "        \n",
    "        C = np.zeros((10,10), dtype=int)\n",
    "        for xx, yy in zip(test_x, test_y):\n",
    "            label = self.classify(xx)\n",
    "            C[yy, label] += 1\n",
    "    \n",
    "        return C \n",
    "            \n",
    "    @staticmethod\n",
    "    def accuracy(C):\n",
    "        \"\"\"\n",
    "        Given a confusion matrix C, compute the accuracy of the underlying classifier.\n",
    "        \n",
    "        :param C: a confusion matrix \n",
    "        \"\"\"\n",
    "        \n",
    "        return np.sum(C.diagonal()) / C.sum()\n",
    "        "
   ]
  },
  {
   "cell_type": "markdown",
   "metadata": {},
   "source": [
    "Here are the unit tests.  You don't need to modify them.  Simply execute the cell and observe the output. "
   ]
  },
  {
   "cell_type": "code",
   "execution_count": 7,
   "metadata": {
    "scrolled": true
   },
   "outputs": [
    {
     "name": "stderr",
     "output_type": "stream",
     "text": [
      "....\n",
      "----------------------------------------------------------------------\n",
      "Ran 4 tests in 0.156s\n",
      "\n",
      "OK\n"
     ]
    },
    {
     "data": {
      "text/plain": [
       "<unittest.runner.TextTestResult run=4 errors=0 failures=0>"
      ]
     },
     "execution_count": 7,
     "metadata": {},
     "output_type": "execute_result"
    }
   ],
   "source": [
    "import unittest\n",
    "\n",
    "class TestKnn(unittest.TestCase):\n",
    "    def setUp(self):\n",
    "        self.x = np.array([[2, 0], [4, 1], [6, 0], [1, 4], [2, 4], [2, 5], [4, 4], [0, 2], [3, 2], [4, 2], [5, 2], [5, 5]])\n",
    "        self.y = np.array([+1, +1, +1, +1, +1, +1, +1, -1, -1, -1, -1, -1])\n",
    "        self.knn = {}\n",
    "        for ii in [1, 2, 3]:\n",
    "            self.knn[ii] = Knearest(self.x, self.y, ii)\n",
    "\n",
    "        self.queries = np.array([[1, 5], [0, 3], [6, 4]])\n",
    "        \n",
    "    def test0(self):\n",
    "        \"\"\"\n",
    "        Test the label counter \n",
    "        \"\"\"\n",
    "        self.assertEqual(self.knn[1]._counts[-1], 5)\n",
    "        self.assertEqual(self.knn[1]._counts[1], 7)\n",
    "\n",
    "    def test1(self):\n",
    "        \"\"\"\n",
    "        Test 1NN\n",
    "        \"\"\"\n",
    "        self.assertEqual(self.knn[1].classify(self.queries[0]),  1)\n",
    "        self.assertEqual(self.knn[1].classify(self.queries[1]), -1)\n",
    "        self.assertEqual(self.knn[1].classify(self.queries[2]), -1)\n",
    "\n",
    "    def test2(self):\n",
    "        \"\"\"\n",
    "        Test 2NN\n",
    "        \"\"\"\n",
    "        self.assertEqual(self.knn[2].classify(self.queries[0]),  1)\n",
    "        self.assertEqual(self.knn[2].classify(self.queries[1]),  1)\n",
    "        self.assertEqual(self.knn[2].classify(self.queries[2]),  1)\n",
    "\n",
    "    def test3(self):\n",
    "        \"\"\"\n",
    "        Test 3NN\n",
    "        \"\"\"\n",
    "        self.assertEqual(self.knn[3].classify(self.queries[0]),  1)\n",
    "        self.assertEqual(self.knn[3].classify(self.queries[1]),  1)\n",
    "        self.assertEqual(self.knn[3].classify(self.queries[2]), -1)\n",
    "        \n",
    "tests = TestKnn()\n",
    "tests_to_run = unittest.TestLoader().loadTestsFromModule(tests)\n",
    "unittest.TextTestRunner().run(tests_to_run)"
   ]
  },
  {
   "cell_type": "markdown",
   "metadata": {},
   "source": [
    "### [15 points] Problem 3\n",
    "***\n",
    "\n",
    "In this problem you'll explore the performance of the classifier you've written.  A word of advice: don't use the entire training set, especially at first.  We'll be using this dataset again later on with techniques that scale better.    "
   ]
  },
  {
   "cell_type": "markdown",
   "metadata": {},
   "source": [
    "**Part A**: Explore the relationship between the number of training examples and accuracy on the test set. Comment on your findings and support your observations with some kind of graphic. "
   ]
  },
  {
   "cell_type": "code",
   "execution_count": 8,
   "metadata": {},
   "outputs": [
    {
     "name": "stdout",
     "output_type": "stream",
     "text": [
      "t = 500, accuracy = 0.8305\n",
      "t = 2000, accuracy = 0.9111\n",
      "t = 3500, accuracy = 0.9291\n",
      "t = 6000, accuracy = 0.9445\n",
      "t = 10000, accuracy = 0.9488\n",
      "t = 16000, accuracy = 0.953\n",
      "t = 25000, accuracy = 0.9577\n",
      "t = 40000, accuracy = 0.9618\n",
      "t = 50000, accuracy = 0.9637\n"
     ]
    },
    {
     "data": {
      "image/png": "[encoded data removed]",
      "text/plain": [
       "<matplotlib.figure.Figure at 0x7f9b24bd9d68>"
      ]
     },
     "metadata": {},
     "output_type": "display_data"
    },
    {
     "data": {
      "text/plain": [
       "\"\\nWe see that the accuracy increases as we increase the size of the training set.\\nThis is not unusual, since the more training data we have,\\nwe will 'K' neighbors for almost every point in the state space and\\nhence will be able to predict each example \""
      ]
     },
     "execution_count": 8,
     "metadata": {},
     "output_type": "execute_result"
    }
   ],
   "source": [
    "number_of_train_examples = [500, 2000, 3500, 6000, 10000, 16000, 25000, 40000, 50000]\n",
    "\n",
    "samples, pixels = data.train_x.shape\n",
    "accuracies = []\n",
    "for t in number_of_train_examples:\n",
    "    # randomly chooses 't' no of samples from the training examples\n",
    "    idxs = np.random.choice(np.arange(samples), t)\n",
    "    \n",
    "    train_local = data.train_x[idxs, :]\n",
    "    train_labels = data.train_y[idxs]\n",
    "    \n",
    "    knn = Knearest(train_local, train_labels, 3)\n",
    "    confusion_matrix = knn.confusion_matrix(data.test_x, data.test_y)\n",
    "    a = knn.accuracy(confusion_matrix)\n",
    "    accuracies.append(a)\n",
    "\n",
    "    print('t = {}, accuracy = {}'.format(t, a))\n",
    "\n",
    "plt.title('accuracy with different training sizes')\n",
    "plt.plot(number_of_train_examples, accuracies)\n",
    "plt.xlabel('Training size')\n",
    "plt.ylabel('Accuracy')\n",
    "plt.show()\n",
    "\n",
    "\"\"\"\n",
    "We see that the accuracy increases as we increase the size of the training set.\n",
    "This is not unusual, since the more training data we have,\n",
    "we will 'K' neighbors for almost every point in the state space(assuming our training is distributed well) and\n",
    "hence will be able to predict each example \"\"\"\n"
   ]
  },
  {
   "cell_type": "markdown",
   "metadata": {},
   "source": [
    "**Part B**: Explore the relationship between the number of nearest neighbors and accuracy on the test set. Comment on your findings and support your observations with some kind of graphic. "
   ]
  },
  {
   "cell_type": "code",
   "execution_count": 36,
   "metadata": {},
   "outputs": [
    {
     "name": "stdout",
     "output_type": "stream",
     "text": [
      "k = 1, accuracy = 0.936\n",
      "k = 2, accuracy = 0.918\n",
      "k = 3, accuracy = 0.94\n",
      "k = 4, accuracy = 0.937\n",
      "k = 5, accuracy = 0.938\n",
      "k = 6, accuracy = 0.935\n",
      "k = 7, accuracy = 0.933\n",
      "k = 15, accuracy = 0.919\n",
      "k = 20, accuracy = 0.915\n"
     ]
    },
    {
     "data": {
      "image/png": "[encoded data removed]",
      "text/plain": [
       "<matplotlib.figure.Figure at 0x7f101cc39978>"
      ]
     },
     "metadata": {},
     "output_type": "display_data"
    },
    {
     "data": {
      "text/plain": [
       "'\\nThe code is run taking 10000 training examples and 1000 test examples.\\nComments : we observe that for k = 1, the accuracy is high, I think this is because if\\nan example occurs in the test set such that it also occurs (the same pixels) in the training set, (it overfits)\\nit just picks its label without considering the neighbors at all, which defeats the purpose of KNN.\\nHence, choosing it is a bad idea.\\n\\nin general, we can see that setting k = 3 gives us the best fit.\\n'"
      ]
     },
     "execution_count": 36,
     "metadata": {},
     "output_type": "execute_result"
    }
   ],
   "source": [
    "train_size = 10000\n",
    "train_x_local = data.train_x[np.arange(train_size), :]\n",
    "train_y_local = data.train_y[np.arange(train_size)]\n",
    "\n",
    "K_choices = [1, 2, 3, 4, 5, 6, 7, 15, 20]\n",
    "accuracy = []\n",
    "for k in K_choices:\n",
    "    knn = Knearest(train_x_local, train_y_local, k)\n",
    "    confusion_matrix = knn.confusion_matrix(data.test_x[:1000], data.test_y[:1000])\n",
    "    a = knn.accuracy(confusion_matrix)\n",
    "#     print(confusion_matrix)\n",
    "    accuracy.append(a)\n",
    "    print('k = {}, accuracy = {}'.format(k, a))\n",
    "          \n",
    "plt.title('accuracy with different k')\n",
    "plt.plot(K_choices, accuracy)\n",
    "plt.xlabel('K')\n",
    "plt.ylabel('Accuracy')\n",
    "plt.show()\n",
    "\n",
    "\"\"\"\n",
    "The code is run taking 10000 training examples and 1000 test examples.\n",
    "Comments : we observe that for k = 1, the accuracy is high, I think this is because if\n",
    "an example occurs in the test set such that it also occurs (the same pixels) in the training set, (it overfits)\n",
    "it just picks its label without considering the neighbors at all, which defeats the purpose of KNN.\n",
    "Hence, choosing it is a bad idea.\n",
    "\n",
    "in general, we can see that setting k = 3 gives us the best fit.\n",
    "\"\"\"\n",
    "\n",
    "\n",
    "    "
   ]
  },
  {
   "cell_type": "markdown",
   "metadata": {},
   "source": [
    "**Part C**: Which numbers get confused with each other the most easily?  Use the confusion_matrix function that you wrote above to support your conclusion.  Then use the `view_digit` function given below to plot a few examples of misclassified digits and discuss possible reasons for the misclassifications.  (Investigating misclassified examples is called **error analysis** and is an important step in the development of any classification technique).  "
   ]
  },
  {
   "cell_type": "code",
   "execution_count": 10,
   "metadata": {},
   "outputs": [
    {
     "name": "stdout",
     "output_type": "stream",
     "text": [
      "true label: 5\n"
     ]
    },
    {
     "data": {
      "image/png": "[encoded data removed]",
      "text/plain": [
       "<matplotlib.figure.Figure at 0x7f1041ca4cf8>"
      ]
     },
     "metadata": {},
     "output_type": "display_data"
    }
   ],
   "source": [
    "def view_digit(example, label=None):\n",
    "    if label: print(\"true label: {:d}\".format(label))\n",
    "    plt.imshow(example.reshape(28,28), cmap='gray');\n",
    "    \n",
    "view_digit(data.train_x[0,:], data.train_y[0])"
   ]
  },
  {
   "cell_type": "code",
   "execution_count": 38,
   "metadata": {},
   "outputs": [
    {
     "name": "stdout",
     "output_type": "stream",
     "text": [
      "true label: 9\n",
      "predicted label: 3\n"
     ]
    },
    {
     "data": {
      "text/plain": [
       "'\\nThe 9 given in this example is very distorted. It appears like a 3 mainly because,\\nit is curved in the place where the oval of the 9 is formed rather than it being a straight line.\\nWhen computing the eucledian distances between this image and the training examples this particular curve\\nmay put it closer to examples with 3 as their label.\\nHowever, this can be resolved by having more 9s having this particular shape in the training set.\\n'"
      ]
     },
     "execution_count": 38,
     "metadata": {},
     "output_type": "execute_result"
    },
    {
     "data": {
      "image/png": "[encoded data removed]",
      "text/plain": [
       "<matplotlib.figure.Figure at 0x7f101cca57f0>"
      ]
     },
     "metadata": {},
     "output_type": "display_data"
    }
   ],
   "source": [
    "view_digit(data.test_x[414, :], data.test_y[414])\n",
    "print('predicted label: 3')\n",
    "\"\"\"\n",
    "The 9 given in this example is very distorted. It appears like a 3 mainly because,\n",
    "it is curved in the place where the oval of the 9 is formed rather than it being a straight line.\n",
    "When computing the eucledian distances between this image and the training examples this particular curve\n",
    "may put it closer to examples with 3 as their label.\n",
    "However, this can be resolved by having more 9s having this particular shape in the training set.\n",
    "\"\"\"\n"
   ]
  },
  {
   "cell_type": "code",
   "execution_count": 37,
   "metadata": {},
   "outputs": [
    {
     "name": "stdout",
     "output_type": "stream",
     "text": [
      "true label: 7\n",
      "predicted label: 1\n"
     ]
    },
    {
     "data": {
      "text/plain": [
       "\"\\nThe reason probably why this is misclassified is\\nbecause the length of the horizontal line of 7 is not as long as it should be,\\nwhich can lead to it it's neighbors being mostly 1's.\\nWhen we calculate the eucledian distance between 1s and this example,\\nthis example will lie closer to the 1s.\\n(difference between pixels in the horizontal line will be less when comparing with a 1 rather than a 7)  \\n\""
      ]
     },
     "execution_count": 37,
     "metadata": {},
     "output_type": "execute_result"
    },
    {
     "data": {
      "image/png": "[encoded data removed]",
      "text/plain": [
       "<matplotlib.figure.Figure at 0x7f101cc1dcc0>"
      ]
     },
     "metadata": {},
     "output_type": "display_data"
    }
   ],
   "source": [
    "view_digit(data.test_x[359, :], data.test_y[359])\n",
    "print('predicted label: 1')\n",
    "\"\"\"\n",
    "The reason probably why this is misclassified is\n",
    "because the length of the horizontal line of 7 is not as long as it should be,\n",
    "which can lead to it it's neighbors being mostly 1's.\n",
    "When we calculate the eucledian distance between 1s and this example,\n",
    "this example will lie closer to the 1s.\n",
    "(difference between pixels in the horizontal line will be less when comparing with a 1 rather than a 7)  \n",
    "\"\"\""
   ]
  },
  {
   "cell_type": "code",
   "execution_count": 40,
   "metadata": {},
   "outputs": [
    {
     "name": "stdout",
     "output_type": "stream",
     "text": [
      "true label: 3\n",
      "predicted label: 9\n"
     ]
    },
    {
     "data": {
      "text/plain": [
       "\"\\nAgain, as we saw in the first example, this isn't a clear picture of 3 which is why it is misclassified.\\nthe upper curve of the 3 almost forms an oval as in a 9 which may be confusing\\nwhen the classifier computes the distance (pixel variation) between this data and the training examples.\\n\""
      ]
     },
     "execution_count": 40,
     "metadata": {},
     "output_type": "execute_result"
    },
    {
     "data": {
      "image/png": "[encoded data removed]",
      "text/plain": [
       "<matplotlib.figure.Figure at 0x7f101cc39cf8>"
      ]
     },
     "metadata": {},
     "output_type": "display_data"
    }
   ],
   "source": [
    "view_digit(data.test_x[212, :], data.test_y[212])\n",
    "print('predicted label: 9')\n",
    "\n",
    "\"\"\"\n",
    "Again, as we saw in the first example, this isn't a clear picture of 3 which is why it is misclassified.\n",
    "the upper curve of the 3 almost forms an oval as in a 9 which may be confusing\n",
    "when the classifier computes the distance (pixel variation) between this data and the training examples.\n",
    "\"\"\""
   ]
  },
  {
   "cell_type": "code",
   "execution_count": 43,
   "metadata": {},
   "outputs": [
    {
     "name": "stdout",
     "output_type": "stream",
     "text": [
      "[[ 982    0    3    0    0    0    2    1    1    2]\n",
      " [   0 1060    1    0    1    0    1    1    0    0]\n",
      " [   3    8  952    3    1    1    1   20    1    0]\n",
      " [   0    0    4 1005    0    8    1    3    6    3]\n",
      " [   0   11    0    0  949    0    0    4    0   19]\n",
      " [   2    0    2   20    1  867   16    3    1    3]\n",
      " [   1    1    0    0    0    1  964    0    0    0]\n",
      " [   0   10    0    0    2    0    0 1072    0    6]\n",
      " [   2    8    2   15    3   14    5    6  947    7]\n",
      " [   2    3    0   11   11    3    0   10    2  919]]\n"
     ]
    }
   ],
   "source": [
    "\"\"\"\n",
    "the numbers which get confused the most are 9 and 5, 9 and 3, 7 and 1, 7 and 2.The  matrix supporting this is printed below\n",
    "The confusion matrix was constructed condering the whole training and test set with k =3.\n",
    "\"\"\"\n",
    "train_size = 50000\n",
    "train_x_local = data.train_x[np.arange(train_size), :]\n",
    "train_y_local = data.train_y[np.arange(train_size)]\n",
    "knn = Knearest(train_x_local, train_y_local, 3)\n",
    "confusion_matrix = knn.confusion_matrix(data.test_x, data.test_y)\n",
    "print(confusion_matrix)"
   ]
  },
  {
   "cell_type": "code",
   "execution_count": null,
   "metadata": {
    "collapsed": true
   },
   "outputs": [],
   "source": []
  }
 ],
 "metadata": {
  "kernelspec": {
   "display_name": "Python 3",
   "language": "python",
   "name": "python3"
  },
  "language_info": {
   "codemirror_mode": {
    "name": "ipython",
    "version": 3
   },
   "file_extension": ".py",
   "mimetype": "text/x-python",
   "name": "python",
   "nbconvert_exporter": "python",
   "pygments_lexer": "ipython3",
   "version": "3.6.3"
  }
 },
 "nbformat": 4,
 "nbformat_minor": 2
}
